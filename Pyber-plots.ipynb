{
 "cells": [
  {
   "cell_type": "code",
   "execution_count": 85,
   "metadata": {
    "collapsed": true
   },
   "outputs": [],
   "source": [
    "# Import Dependencies\n",
    "import numpy as np\n",
    "import matplotlib.pyplot as plt\n",
    "import pandas as pd\n",
    "import os"
   ]
  },
  {
   "cell_type": "code",
   "execution_count": 86,
   "metadata": {
    "collapsed": true
   },
   "outputs": [],
   "source": [
    "# Use mpg_df.plot(x = 'mpg', y = 'horsepower', kind ='scatter', facecolor = 'blue')\n",
    "# Easier bc you can choose any column for axes, don't need separate series for them...?\n",
    "\n",
    "# Bubble size: At least as of matplotlib 1.3.1, the marker size for scatter plots is already scaled by area \n",
    "#(see scatter plot documentation) Using the square root gives the incorrect marker sizes..\n",
    "## OR: ax.scatter(df2['Place'],df2['Name'], s=df2['00:00:00'])\n",
    "## SOMEHOW: s=drivercount\n",
    "\n",
    "#colors = [\"yellowgreen\", \"red\", \"lightcoral\", \"lightskyblue\"]\n"
   ]
  },
  {
   "cell_type": "code",
   "execution_count": 100,
   "metadata": {},
   "outputs": [
    {
     "data": {
      "text/html": [
       "<div>\n",
       "<style>\n",
       "    .dataframe thead tr:only-child th {\n",
       "        text-align: right;\n",
       "    }\n",
       "\n",
       "    .dataframe thead th {\n",
       "        text-align: left;\n",
       "    }\n",
       "\n",
       "    .dataframe tbody tr th {\n",
       "        vertical-align: top;\n",
       "    }\n",
       "</style>\n",
       "<table border=\"1\" class=\"dataframe\">\n",
       "  <thead>\n",
       "    <tr style=\"text-align: right;\">\n",
       "      <th></th>\n",
       "      <th>city</th>\n",
       "      <th>date</th>\n",
       "      <th>fare</th>\n",
       "      <th>ride_id</th>\n",
       "    </tr>\n",
       "  </thead>\n",
       "  <tbody>\n",
       "    <tr>\n",
       "      <th>0</th>\n",
       "      <td>Sarabury</td>\n",
       "      <td>2016-01-16 13:49:27</td>\n",
       "      <td>38.35</td>\n",
       "      <td>5403689035038</td>\n",
       "    </tr>\n",
       "    <tr>\n",
       "      <th>1</th>\n",
       "      <td>South Roy</td>\n",
       "      <td>2016-01-02 18:42:34</td>\n",
       "      <td>17.49</td>\n",
       "      <td>4036272335942</td>\n",
       "    </tr>\n",
       "    <tr>\n",
       "      <th>2</th>\n",
       "      <td>Wiseborough</td>\n",
       "      <td>2016-01-21 17:35:29</td>\n",
       "      <td>44.18</td>\n",
       "      <td>3645042422587</td>\n",
       "    </tr>\n",
       "    <tr>\n",
       "      <th>3</th>\n",
       "      <td>Spencertown</td>\n",
       "      <td>2016-07-31 14:53:22</td>\n",
       "      <td>6.87</td>\n",
       "      <td>2242596575892</td>\n",
       "    </tr>\n",
       "    <tr>\n",
       "      <th>4</th>\n",
       "      <td>Nguyenbury</td>\n",
       "      <td>2016-07-09 04:42:44</td>\n",
       "      <td>6.28</td>\n",
       "      <td>1543057793673</td>\n",
       "    </tr>\n",
       "  </tbody>\n",
       "</table>\n",
       "</div>"
      ],
      "text/plain": [
       "          city                 date   fare        ride_id\n",
       "0     Sarabury  2016-01-16 13:49:27  38.35  5403689035038\n",
       "1    South Roy  2016-01-02 18:42:34  17.49  4036272335942\n",
       "2  Wiseborough  2016-01-21 17:35:29  44.18  3645042422587\n",
       "3  Spencertown  2016-07-31 14:53:22   6.87  2242596575892\n",
       "4   Nguyenbury  2016-07-09 04:42:44   6.28  1543057793673"
      ]
     },
     "execution_count": 100,
     "metadata": {},
     "output_type": "execute_result"
    }
   ],
   "source": [
    "# Create a reference to the CSVs and import into Pandas DataFrames\n",
    "\n",
    "ride_csv = os.path.join(\"raw_data/\", \"ride_data.csv\")\n",
    "city_csv = os.path.join(\"raw_data/\", \"city_data.csv\")\n",
    "\n",
    "ride_df = pd.read_csv(ride_csv, low_memory=False)\n",
    "city_df = pd.read_csv(city_csv, low_memory=False)\n",
    "\n",
    "ride_df.head()"
   ]
  },
  {
   "cell_type": "code",
   "execution_count": 109,
   "metadata": {},
   "outputs": [
    {
     "data": {
      "text/plain": [
       "city\n",
       "Alvarezhaven            31\n",
       "Alyssaberg              26\n",
       "Anitamouth               9\n",
       "Antoniomouth            22\n",
       "Aprilchester            19\n",
       "Arnoldview              31\n",
       "Campbellport            15\n",
       "Carrollbury             10\n",
       "Carrollfort             29\n",
       "Clarkstad               12\n",
       "Conwaymouth             11\n",
       "Davidtown               21\n",
       "Davistown               25\n",
       "East Cherylfurt         13\n",
       "East Douglas            22\n",
       "East Erin               28\n",
       "East Jenniferchester    19\n",
       "East Leslie             11\n",
       "East Stephen            10\n",
       "East Troybury            7\n",
       "Edwardsbury             27\n",
       "Erikport                 8\n",
       "Eriktown                19\n",
       "Floresberg              10\n",
       "Fosterside              24\n",
       "Hernandezshire           9\n",
       "Horneland                4\n",
       "Jacksonfort              6\n",
       "Jacobfort               31\n",
       "Jasonfort               12\n",
       "                        ..\n",
       "South Roy               22\n",
       "South Shannonborough    15\n",
       "Spencertown             26\n",
       "Stevensport              5\n",
       "Stewartview             30\n",
       "Swansonbury             34\n",
       "Thomastown              24\n",
       "Tiffanyton              13\n",
       "Torresshire             26\n",
       "Travisville             23\n",
       "Vickimouth              15\n",
       "Webstertown             16\n",
       "West Alexis             20\n",
       "West Brandy             30\n",
       "West Brittanyton        24\n",
       "West Dawnfurt           29\n",
       "West Evan               12\n",
       "West Jefferyfurt        21\n",
       "West Kevintown           7\n",
       "West Oscar              29\n",
       "West Pamelaborough      14\n",
       "West Paulport           17\n",
       "West Peter              31\n",
       "West Sydneyhaven        18\n",
       "West Tony               19\n",
       "Williamchester          11\n",
       "Williamshire            31\n",
       "Wiseborough             19\n",
       "Yolandafurt             20\n",
       "Zimmermanmouth          24\n",
       "Name: fare, Length: 125, dtype: int64"
      ]
     },
     "execution_count": 109,
     "metadata": {},
     "output_type": "execute_result"
    }
   ],
   "source": [
    "## x = Total Number of rides per city: groupby city - count\n",
    "## y = Average Fare: groupby city - mean (fare)\n",
    "## color: city type...not sure how, 3 types.\n",
    "## bubble size: bring in drivercount from other CSV.\n",
    "\n",
    "#item_purchase_count = item_info.groupby([\"Item ID\", \"Item Name\"]).count()[\"Price\"]\n",
    "ride_count_by_city = ride_df.groupby(\"city\").count()[\"fare\"]\n",
    "#ride_count_by_city\n",
    "\n",
    "avg_fare_by_city = ride_df.groupby(\"city\").mean()[\"fare\"]\n",
    "#avg_fare_by_city\n",
    "\n",
    "ride_count_by_city"
   ]
  },
  {
   "cell_type": "code",
   "execution_count": 89,
   "metadata": {},
   "outputs": [],
   "source": [
    "# min_count_by_city = pyber_df.groupby(\"city\").count().min()\n",
    "# min_count_by_city\n",
    "\n",
    "# ride_count_by_city.min()"
   ]
  },
  {
   "cell_type": "code",
   "execution_count": 106,
   "metadata": {},
   "outputs": [
    {
     "data": {
      "text/html": [
       "<div>\n",
       "<style>\n",
       "    .dataframe thead tr:only-child th {\n",
       "        text-align: right;\n",
       "    }\n",
       "\n",
       "    .dataframe thead th {\n",
       "        text-align: left;\n",
       "    }\n",
       "\n",
       "    .dataframe tbody tr th {\n",
       "        vertical-align: top;\n",
       "    }\n",
       "</style>\n",
       "<table border=\"1\" class=\"dataframe\">\n",
       "  <thead>\n",
       "    <tr style=\"text-align: right;\">\n",
       "      <th></th>\n",
       "      <th>Ride Count</th>\n",
       "      <th>Average Fare</th>\n",
       "    </tr>\n",
       "    <tr>\n",
       "      <th>city</th>\n",
       "      <th></th>\n",
       "      <th></th>\n",
       "    </tr>\n",
       "  </thead>\n",
       "  <tbody>\n",
       "    <tr>\n",
       "      <th>Alvarezhaven</th>\n",
       "      <td>31</td>\n",
       "      <td>23.928710</td>\n",
       "    </tr>\n",
       "    <tr>\n",
       "      <th>Alyssaberg</th>\n",
       "      <td>26</td>\n",
       "      <td>20.609615</td>\n",
       "    </tr>\n",
       "    <tr>\n",
       "      <th>Anitamouth</th>\n",
       "      <td>9</td>\n",
       "      <td>37.315556</td>\n",
       "    </tr>\n",
       "    <tr>\n",
       "      <th>Antoniomouth</th>\n",
       "      <td>22</td>\n",
       "      <td>23.625000</td>\n",
       "    </tr>\n",
       "    <tr>\n",
       "      <th>Aprilchester</th>\n",
       "      <td>19</td>\n",
       "      <td>21.981579</td>\n",
       "    </tr>\n",
       "  </tbody>\n",
       "</table>\n",
       "</div>"
      ],
      "text/plain": [
       "              Ride Count  Average Fare\n",
       "city                                  \n",
       "Alvarezhaven          31     23.928710\n",
       "Alyssaberg            26     20.609615\n",
       "Anitamouth             9     37.315556\n",
       "Antoniomouth          22     23.625000\n",
       "Aprilchester          19     21.981579"
      ]
     },
     "execution_count": 106,
     "metadata": {},
     "output_type": "execute_result"
    }
   ],
   "source": [
    "# Create summary dataframe\n",
    "\n",
    "# Format to currency\n",
    "\n",
    "# formatted_average_item_purchase = [\"$%.2f\" % member for member in average_item_purchase]\n",
    "# formatted_total_item_purchase = [\"$%.2f\" % member for member in total_item_purchase]\n",
    "\n",
    "\n",
    "# Create dataframe\n",
    "\n",
    "summary_df = pd.DataFrame({\"Ride Count\": ride_count_by_city,\n",
    "                           \"Average Fare\": avg_fare_by_city})\n",
    "\n",
    "# Configure dataframe column order\n",
    "summary_df = summary_df[[\"Ride Count\", \"Average Fare\"]]\n",
    "\n",
    "# Display top 5 items as measured by count\n",
    "#item_purchases_df.sort_values(\"Purchase Count\", ascending=False).head(5)\n",
    "\n",
    "summary_df.head(5)"
   ]
  },
  {
   "cell_type": "code",
   "execution_count": 91,
   "metadata": {},
   "outputs": [],
   "source": [
    "# \n",
    "# summary_df.sort_values(\"Ride Count\").head(5)"
   ]
  },
  {
   "cell_type": "code",
   "execution_count": 96,
   "metadata": {},
   "outputs": [],
   "source": [
    "# Create scatterplot\n",
    "\n",
    "city_rides = summary_df.plot(x = 'Ride Count', y = 'Average Fare', kind ='scatter', facecolor = 'blue', label='Type')\n",
    "##plt.scatter(waterUsage['duration'], waterUsage['water_amount'],c=waterUsage['color'])\n",
    "## facecolor = 'color' ???\n",
    "\n",
    "######** BEFORE YOU THROW OUT .PLOT, a way to map colors and maybe size...\n",
    "## https://stackoverflow.com/questions/26139423/plot-different-color-for-different-categorical-levels-using-matplotlib"
   ]
  },
  {
   "cell_type": "code",
   "execution_count": 93,
   "metadata": {},
   "outputs": [
    {
     "data": {
      "text/plain": [
       "<matplotlib.text.Text at 0x10f1f0a58>"
      ]
     },
     "execution_count": 93,
     "metadata": {},
     "output_type": "execute_result"
    }
   ],
   "source": [
    "# Set textual properties\n",
    "plt.title(\"Pyber Ridesharing Data (2016)\")\n",
    "plt.xlabel(\"Total Number of Rides Per City\")\n",
    "plt.ylabel(\"Average Fare ($)\")\n",
    "\n",
    "# Place a legend on the chart in what matplotlib believes to be the \"best\" location\n",
    "#plt.legend(loc=\"upper right\")\n",
    "#plt.legend(handles=[city_rides], loc=\"best\")"
   ]
  },
  {
   "cell_type": "code",
   "execution_count": 94,
   "metadata": {},
   "outputs": [
    {
     "data": {
      "image/png": "[encoded data removed]",
      "text/plain": [
       "<matplotlib.figure.Figure at 0x1101bd780>"
      ]
     },
     "metadata": {},
     "output_type": "display_data"
    }
   ],
   "source": [
    "plt.show()"
   ]
  },
  {
   "cell_type": "code",
   "execution_count": null,
   "metadata": {
    "collapsed": true
   },
   "outputs": [],
   "source": [
    "## Figure out how to color on city type.\n",
    "#colors = {'D':'red', 'E':'blue', 'F':'green', 'G':'black'}\n",
    "## L/R join on city? But rows might be in diff order...\n",
    "# could alphabetize both, full join, then "
   ]
  },
  {
   "cell_type": "code",
   "execution_count": 115,
   "metadata": {},
   "outputs": [
    {
     "data": {
      "text/html": [
       "<div>\n",
       "<style>\n",
       "    .dataframe thead tr:only-child th {\n",
       "        text-align: right;\n",
       "    }\n",
       "\n",
       "    .dataframe thead th {\n",
       "        text-align: left;\n",
       "    }\n",
       "\n",
       "    .dataframe tbody tr th {\n",
       "        vertical-align: top;\n",
       "    }\n",
       "</style>\n",
       "<table border=\"1\" class=\"dataframe\">\n",
       "  <thead>\n",
       "    <tr style=\"text-align: right;\">\n",
       "      <th></th>\n",
       "      <th>Ride Count</th>\n",
       "      <th>Average Fare</th>\n",
       "      <th>city</th>\n",
       "      <th>driver_count</th>\n",
       "      <th>type</th>\n",
       "    </tr>\n",
       "  </thead>\n",
       "  <tbody>\n",
       "    <tr>\n",
       "      <th>0</th>\n",
       "      <td>31</td>\n",
       "      <td>23.928710</td>\n",
       "      <td>Alvarezhaven</td>\n",
       "      <td>21</td>\n",
       "      <td>Urban</td>\n",
       "    </tr>\n",
       "    <tr>\n",
       "      <th>1</th>\n",
       "      <td>26</td>\n",
       "      <td>20.609615</td>\n",
       "      <td>Alyssaberg</td>\n",
       "      <td>67</td>\n",
       "      <td>Urban</td>\n",
       "    </tr>\n",
       "    <tr>\n",
       "      <th>2</th>\n",
       "      <td>9</td>\n",
       "      <td>37.315556</td>\n",
       "      <td>Anitamouth</td>\n",
       "      <td>16</td>\n",
       "      <td>Suburban</td>\n",
       "    </tr>\n",
       "    <tr>\n",
       "      <th>3</th>\n",
       "      <td>22</td>\n",
       "      <td>23.625000</td>\n",
       "      <td>Antoniomouth</td>\n",
       "      <td>21</td>\n",
       "      <td>Urban</td>\n",
       "    </tr>\n",
       "    <tr>\n",
       "      <th>4</th>\n",
       "      <td>19</td>\n",
       "      <td>21.981579</td>\n",
       "      <td>Aprilchester</td>\n",
       "      <td>49</td>\n",
       "      <td>Urban</td>\n",
       "    </tr>\n",
       "    <tr>\n",
       "      <th>5</th>\n",
       "      <td>31</td>\n",
       "      <td>25.106452</td>\n",
       "      <td>Arnoldview</td>\n",
       "      <td>41</td>\n",
       "      <td>Urban</td>\n",
       "    </tr>\n",
       "    <tr>\n",
       "      <th>6</th>\n",
       "      <td>15</td>\n",
       "      <td>33.711333</td>\n",
       "      <td>Campbellport</td>\n",
       "      <td>26</td>\n",
       "      <td>Suburban</td>\n",
       "    </tr>\n",
       "    <tr>\n",
       "      <th>7</th>\n",
       "      <td>10</td>\n",
       "      <td>36.606000</td>\n",
       "      <td>Carrollbury</td>\n",
       "      <td>4</td>\n",
       "      <td>Suburban</td>\n",
       "    </tr>\n",
       "    <tr>\n",
       "      <th>8</th>\n",
       "      <td>29</td>\n",
       "      <td>25.395517</td>\n",
       "      <td>Carrollfort</td>\n",
       "      <td>55</td>\n",
       "      <td>Urban</td>\n",
       "    </tr>\n",
       "    <tr>\n",
       "      <th>9</th>\n",
       "      <td>12</td>\n",
       "      <td>31.051667</td>\n",
       "      <td>Clarkstad</td>\n",
       "      <td>21</td>\n",
       "      <td>Suburban</td>\n",
       "    </tr>\n",
       "  </tbody>\n",
       "</table>\n",
       "</div>"
      ],
      "text/plain": [
       "   Ride Count  Average Fare          city  driver_count      type\n",
       "0          31     23.928710  Alvarezhaven            21     Urban\n",
       "1          26     20.609615    Alyssaberg            67     Urban\n",
       "2           9     37.315556    Anitamouth            16  Suburban\n",
       "3          22     23.625000  Antoniomouth            21     Urban\n",
       "4          19     21.981579  Aprilchester            49     Urban\n",
       "5          31     25.106452    Arnoldview            41     Urban\n",
       "6          15     33.711333  Campbellport            26  Suburban\n",
       "7          10     36.606000   Carrollbury             4  Suburban\n",
       "8          29     25.395517   Carrollfort            55     Urban\n",
       "9          12     31.051667     Clarkstad            21  Suburban"
      ]
     },
     "execution_count": 115,
     "metadata": {},
     "output_type": "execute_result"
    }
   ],
   "source": [
    "#inner_merge_df = pd.merge(purchase_df, email_df, on=\"Customer ID\")\n",
    "#inner_merge_df\n",
    "\n",
    "#merged_df = pd.merge(summary_df, city_df, on=\"city\")\n",
    "\n",
    "#merged_df = summary_df.merge(city_df, on='city')\n",
    "\n",
    "#right_on=None, left_index=False,\n",
    "\n",
    "merged_df = pd.merge(summary_df, city_df, right_on=\"city\", left_index=True)\n",
    "merged_df = merged_df.reset_index(drop=True)\n",
    "\n",
    "merged_df.head(10)"
   ]
  },
  {
   "cell_type": "code",
   "execution_count": null,
   "metadata": {},
   "outputs": [],
   "source": []
  },
  {
   "cell_type": "code",
   "execution_count": null,
   "metadata": {
    "collapsed": true
   },
   "outputs": [],
   "source": []
  }
 ],
 "metadata": {
  "kernelspec": {
   "display_name": "Python 3",
   "language": "python",
   "name": "python3"
  },
  "language_info": {
   "codemirror_mode": {
    "name": "ipython",
    "version": 3
   },
   "file_extension": ".py",
   "mimetype": "text/x-python",
   "name": "python",
   "nbconvert_exporter": "python",
   "pygments_lexer": "ipython3",
   "version": "3.6.2"
  }
 },
 "nbformat": 4,
 "nbformat_minor": 2
}
